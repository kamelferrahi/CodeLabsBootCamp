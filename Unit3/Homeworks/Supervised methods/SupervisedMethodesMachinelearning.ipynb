{
 "cells": [
  {
   "cell_type": "code",
   "execution_count": 1,
   "id": "de0aa8dc",
   "metadata": {},
   "outputs": [],
   "source": [
    "from sklearn.datasets import load_breast_cancer\n",
    "from sklearn.model_selection import train_test_split\n",
    "from sklearn import svm\n",
    "from sklearn import metrics\n",
    "from sklearn import tree\n",
    "from matplotlib import pyplot as plt\n",
    "from sklearn.ensemble import RandomForestClassifier\n",
    "from matplotlib import pyplot as plt"
   ]
  },
  {
   "cell_type": "code",
   "execution_count": 2,
   "id": "b78ef6a8",
   "metadata": {},
   "outputs": [
    {
     "name": "stdout",
     "output_type": "stream",
     "text": [
      "(398, 30) (171, 30) (398,) (171,)\n"
     ]
    }
   ],
   "source": [
    "X, y =load_breast_cancer(return_X_y=True)\n",
    "x_train, x_test, y_train , y_test = train_test_split(X,y,test_size=0.3,random_state=0)\n",
    "print(x_train.shape,\n",
    "      x_test.shape,\n",
    "      y_train.shape ,\n",
    "      y_test.shape)"
   ]
  },
  {
   "cell_type": "code",
   "execution_count": 3,
   "id": "c370be43",
   "metadata": {},
   "outputs": [
    {
     "name": "stdout",
     "output_type": "stream",
     "text": [
      "[[1.799e+01 1.038e+01 1.228e+02 1.001e+03 1.184e-01 2.776e-01 3.001e-01\n",
      "  1.471e-01 2.419e-01 7.871e-02 1.095e+00 9.053e-01 8.589e+00 1.534e+02\n",
      "  6.399e-03 4.904e-02 5.373e-02 1.587e-02 3.003e-02 6.193e-03 2.538e+01\n",
      "  1.733e+01 1.846e+02 2.019e+03 1.622e-01 6.656e-01 7.119e-01 2.654e-01\n",
      "  4.601e-01 1.189e-01]\n",
      " [2.057e+01 1.777e+01 1.329e+02 1.326e+03 8.474e-02 7.864e-02 8.690e-02\n",
      "  7.017e-02 1.812e-01 5.667e-02 5.435e-01 7.339e-01 3.398e+00 7.408e+01\n",
      "  5.225e-03 1.308e-02 1.860e-02 1.340e-02 1.389e-02 3.532e-03 2.499e+01\n",
      "  2.341e+01 1.588e+02 1.956e+03 1.238e-01 1.866e-01 2.416e-01 1.860e-01\n",
      "  2.750e-01 8.902e-02]]\n"
     ]
    }
   ],
   "source": [
    "print(X[:2])"
   ]
  },
  {
   "cell_type": "code",
   "execution_count": 4,
   "id": "cf3f812d",
   "metadata": {},
   "outputs": [],
   "source": [
    "#let's start with the naive bayes\n",
    "#The value are continous so let's use the guassien naive bayes"
   ]
  },
  {
   "cell_type": "code",
   "execution_count": 5,
   "id": "684b116c",
   "metadata": {},
   "outputs": [],
   "source": [
    "#importing Gaussian naive Bayes then creating Caussian naive Classifier\n",
    "from sklearn.naive_bayes import GaussianNB\n",
    "gnb_model = GaussianNB()\n",
    "#training and testing the model\n",
    "gnb_model =  gnb_model.fit(x_train,y_train)\n",
    "y_predi = gnb_model. predict(x_test)"
   ]
  },
  {
   "cell_type": "code",
   "execution_count": 10,
   "id": "cd9750e0",
   "metadata": {},
   "outputs": [
    {
     "name": "stdout",
     "output_type": "stream",
     "text": [
      "Error:  0.07602339181286555\n",
      "we have 13 misclassed value of 171 values\n"
     ]
    }
   ],
   "source": [
    "#estimate the error \n",
    "err1 = 1.0-metrics.accuracy_score(y_test,y_predi)\n",
    "print(\"Error: \",err1)\n",
    "print(\"we have \"+str(int(err1*len(y_test)))+\" misclassed value of \"+str(len(y_test))+\" values\")"
   ]
  },
  {
   "cell_type": "code",
   "execution_count": 11,
   "id": "d4d0b9a4",
   "metadata": {},
   "outputs": [],
   "source": [
    "#Now the svm model!\n",
    "svm_model = svm.SVC(gamma= 'auto')\n",
    "svm_model = svm_model.fit(x_train,y_train)\n",
    "y_predict = svm_model.predict(x_test)"
   ]
  },
  {
   "cell_type": "code",
   "execution_count": 14,
   "id": "6ddf8883",
   "metadata": {},
   "outputs": [
    {
     "name": "stdout",
     "output_type": "stream",
     "text": [
      "Error:  0.368421052631579\n",
      "we have 63 misclassed value of 171 values\n"
     ]
    }
   ],
   "source": [
    "#estimate the error \n",
    "err2 = 1.0-metrics.accuracy_score(y_test,y_predict)\n",
    "print(\"Error: \",err2)\n",
    "print(\"we have \"+str(int(err2*len(y_test)))+\" misclassed value of \"+str(len(y_test))+\" values\")"
   ]
  },
  {
   "cell_type": "code",
   "execution_count": 20,
   "id": "6baab6b2",
   "metadata": {},
   "outputs": [],
   "source": [
    "#create the decision tree classifier using the entropy criterion\n",
    "tree_entropy_model = tree.DecisionTreeClassifier(criterion='entropy')\n",
    "tree_entropy_model = tree_entropy_model.fit(x_train,y_train)\n",
    "y_predict = tree_entropy_model.predict(x_test)"
   ]
  },
  {
   "cell_type": "code",
   "execution_count": 21,
   "id": "6ac06de8",
   "metadata": {},
   "outputs": [
    {
     "name": "stdout",
     "output_type": "stream",
     "text": [
      "Error:  0.052631578947368474\n",
      "we have 9 misclassed value of 171 values\n"
     ]
    }
   ],
   "source": [
    "#estimate the error \n",
    "err3 = 1.0-metrics.accuracy_score(y_test,y_predict)\n",
    "print(\"Error: \",err3)\n",
    "print(\"we have \"+str(int(err3*len(y_test)))+\" misclassed value of \"+str(len(y_test))+\" values\")"
   ]
  },
  {
   "cell_type": "code",
   "execution_count": 23,
   "id": "9ffc06c0",
   "metadata": {},
   "outputs": [
    {
     "data": {
      "image/png": "[encoded data removed]",
      "text/plain": [
       "<Figure size 432x288 with 1 Axes>"
      ]
     },
     "metadata": {
      "needs_background": "light"
     },
     "output_type": "display_data"
    }
   ],
   "source": [
    "tree.plot_tree(tree_entropy_model)\n",
    "plt.show()"
   ]
  },
  {
   "cell_type": "code",
   "execution_count": 25,
   "id": "add7753e",
   "metadata": {},
   "outputs": [],
   "source": [
    "\n",
    "#create the random forest model with 10 trees\n",
    "rdm_forest = RandomForestClassifier(n_estimators=10,criterion='entropy',random_state=0)\n",
    "rdm_forest = rdm_forest.fit(x_train, y_train)\n",
    "y_predict = rdm_forest.predict(x_test)"
   ]
  },
  {
   "cell_type": "code",
   "execution_count": 26,
   "id": "605ddd09",
   "metadata": {},
   "outputs": [
    {
     "name": "stdout",
     "output_type": "stream",
     "text": [
      "Error:  0.04678362573099415\n",
      "we have 8 misclassed value of 171 values\n"
     ]
    }
   ],
   "source": [
    "#estimate the error \n",
    "err4 = 1.0-metrics.accuracy_score(y_test,y_predict)\n",
    "print(\"Error: \",err4)\n",
    "print(\"we have \"+str(int(err4*len(y_test)))+\" misclassed value of \"+str(len(y_test))+\" values\")"
   ]
  },
  {
   "cell_type": "code",
   "execution_count": null,
   "id": "d3b6f4ce",
   "metadata": {},
   "outputs": [],
   "source": []
  },
  {
   "cell_type": "code",
   "execution_count": 29,
   "id": "48c515b1",
   "metadata": {},
   "outputs": [],
   "source": [
    "#create the random forest model with 20 trees\n",
    "rdm_forest = RandomForestClassifier(n_estimators=20,criterion='entropy',random_state=0)\n",
    "rdm_forest = rdm_forest.fit(x_train, y_train)\n",
    "y_predict = rdm_forest.predict(x_test)"
   ]
  },
  {
   "cell_type": "code",
   "execution_count": 30,
   "id": "03fde2c9",
   "metadata": {},
   "outputs": [
    {
     "name": "stdout",
     "output_type": "stream",
     "text": [
      "Error:  0.040935672514619936\n",
      "we have 7 misclassed value of 171 values\n"
     ]
    }
   ],
   "source": [
    "#estimate the error \n",
    "err5 = 1.0-metrics.accuracy_score(y_test,y_predict)\n",
    "print(\"Error: \",err5)\n",
    "print(\"we have \"+str(int(err5*len(y_test)))+\" misclassed value of \"+str(len(y_test))+\" values\")"
   ]
  },
  {
   "cell_type": "code",
   "execution_count": 31,
   "id": "5bf90b51",
   "metadata": {},
   "outputs": [],
   "source": [
    "#create the random forest model with 30 trees\n",
    "rdm_forest = RandomForestClassifier(n_estimators=30,criterion='entropy',random_state=0)\n",
    "rdm_forest = rdm_forest.fit(x_train, y_train)\n",
    "y_predict = rdm_forest.predict(x_test)"
   ]
  },
  {
   "cell_type": "code",
   "execution_count": 32,
   "id": "099405ae",
   "metadata": {},
   "outputs": [
    {
     "name": "stdout",
     "output_type": "stream",
     "text": [
      "Error:  0.03508771929824561\n",
      "we have 6 misclassed value of 171 values\n"
     ]
    }
   ],
   "source": [
    "#estimate the error \n",
    "err6 = 1.0-metrics.accuracy_score(y_test,y_predict)\n",
    "print(\"Error: \",err6)\n",
    "print(\"we have \"+str(int(err6*len(y_test)))+\" misclassed value of \"+str(len(y_test))+\" values\")"
   ]
  },
  {
   "cell_type": "code",
   "execution_count": null,
   "id": "4597eb19",
   "metadata": {},
   "outputs": [],
   "source": [
    "#The method that return the best results is the random forest one however we can observe that in this \n",
    "#model the more trees there are in the forest the more accurate is the results"
   ]
  }
 ],
 "metadata": {
  "kernelspec": {
   "display_name": "Python 3 (ipykernel)",
   "language": "python",
   "name": "python3"
  },
  "language_info": {
   "codemirror_mode": {
    "name": "ipython",
    "version": 3
   },
   "file_extension": ".py",
   "mimetype": "text/x-python",
   "name": "python",
   "nbconvert_exporter": "python",
   "pygments_lexer": "ipython3",
   "version": "3.9.4"
  }
 },
 "nbformat": 4,
 "nbformat_minor": 5
}
