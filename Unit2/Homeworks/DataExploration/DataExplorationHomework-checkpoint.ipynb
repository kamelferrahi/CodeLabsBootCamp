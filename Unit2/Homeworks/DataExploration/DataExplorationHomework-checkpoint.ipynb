{
 "cells": [
  {
   "cell_type": "code",
   "execution_count": 1,
   "id": "22bf7f95",
   "metadata": {},
   "outputs": [
    {
     "name": "stdout",
     "output_type": "stream",
     "text": [
      "Requirement already satisfied: virtualenv in c:\\python\\lib\\site-packages (20.13.0)\n",
      "Requirement already satisfied: six<2,>=1.9.0 in c:\\python\\lib\\site-packages (from virtualenv) (1.15.0)\n",
      "Requirement already satisfied: filelock<4,>=3.2 in c:\\python\\lib\\site-packages (from virtualenv) (3.4.2)\n",
      "Requirement already satisfied: platformdirs<3,>=2 in c:\\python\\lib\\site-packages (from virtualenv) (2.4.1)\n",
      "Requirement already satisfied: distlib<1,>=0.3.1 in c:\\python\\lib\\site-packages (from virtualenv) (0.3.4)\n"
     ]
    }
   ],
   "source": [
    "# Make sure you have virtualenv installed \n",
    "!pip install --user virtualenv\n"
   ]
  },
  {
   "cell_type": "code",
   "execution_count": 2,
   "id": "b1e04305",
   "metadata": {},
   "outputs": [],
   "source": [
    "# To-Do: create a virtual environement called myenv\n",
    "!python -m venv myenv"
   ]
  },
  {
   "cell_type": "code",
   "execution_count": 3,
   "id": "30562ba8",
   "metadata": {},
   "outputs": [],
   "source": [
    "# Activate the environement \n",
    "! myenv\\Scripts\\activate.bat"
   ]
  },
  {
   "cell_type": "code",
   "execution_count": 4,
   "id": "008c135f",
   "metadata": {},
   "outputs": [
    {
     "name": "stdout",
     "output_type": "stream",
     "text": [
      "Requirement already satisfied: ipykernel in c:\\python\\lib\\site-packages (6.7.0)\n",
      "Requirement already satisfied: jupyter-client<8.0 in c:\\python\\lib\\site-packages (from ipykernel) (7.1.1)\n",
      "Requirement already satisfied: nest-asyncio in c:\\python\\lib\\site-packages (from ipykernel) (1.5.4)\n",
      "Requirement already satisfied: tornado<7.0,>=4.2 in c:\\python\\lib\\site-packages (from ipykernel) (6.1)\n",
      "Requirement already satisfied: traitlets<6.0,>=5.1.0 in c:\\python\\lib\\site-packages (from ipykernel) (5.1.1)\n",
      "Requirement already satisfied: matplotlib-inline<0.2.0,>=0.1.0 in c:\\python\\lib\\site-packages (from ipykernel) (0.1.3)\n",
      "Requirement already satisfied: debugpy<2.0,>=1.0.0 in c:\\python\\lib\\site-packages (from ipykernel) (1.5.1)\n",
      "Requirement already satisfied: ipython>=7.23.1 in c:\\python\\lib\\site-packages (from ipykernel) (8.0.1)\n",
      "Requirement already satisfied: setuptools>=18.5 in c:\\python\\lib\\site-packages (from ipython>=7.23.1->ipykernel) (60.1.1)\n",
      "Requirement already satisfied: backcall in c:\\python\\lib\\site-packages (from ipython>=7.23.1->ipykernel) (0.2.0)\n",
      "Requirement already satisfied: black in c:\\python\\lib\\site-packages (from ipython>=7.23.1->ipykernel) (21.12b0)\n",
      "Requirement already satisfied: pygments in c:\\python\\lib\\site-packages (from ipython>=7.23.1->ipykernel) (2.11.2)\n",
      "Requirement already satisfied: pickleshare in c:\\python\\lib\\site-packages (from ipython>=7.23.1->ipykernel) (0.7.5)\n",
      "Requirement already satisfied: prompt-toolkit!=3.0.0,!=3.0.1,<3.1.0,>=2.0.0 in c:\\python\\lib\\site-packages (from ipython>=7.23.1->ipykernel) (3.0.24)\n",
      "Requirement already satisfied: stack-data in c:\\python\\lib\\site-packages (from ipython>=7.23.1->ipykernel) (0.1.4)\n",
      "Requirement already satisfied: decorator in c:\\python\\lib\\site-packages (from ipython>=7.23.1->ipykernel) (5.1.1)\n",
      "Requirement already satisfied: jedi>=0.16 in c:\\python\\lib\\site-packages (from ipython>=7.23.1->ipykernel) (0.18.1)\n",
      "Requirement already satisfied: colorama in c:\\python\\lib\\site-packages (from ipython>=7.23.1->ipykernel) (0.4.4)\n",
      "Requirement already satisfied: python-dateutil>=2.1 in c:\\python\\lib\\site-packages (from jupyter-client<8.0->ipykernel) (2.8.1)\n",
      "Requirement already satisfied: jupyter-core>=4.6.0 in c:\\python\\lib\\site-packages (from jupyter-client<8.0->ipykernel) (4.9.1)\n",
      "Requirement already satisfied: pyzmq>=13 in c:\\python\\lib\\site-packages (from jupyter-client<8.0->ipykernel) (22.3.0)\n",
      "Requirement already satisfied: entrypoints in c:\\python\\lib\\site-packages (from jupyter-client<8.0->ipykernel) (0.3)\n",
      "Requirement already satisfied: parso<0.9.0,>=0.8.0 in c:\\python\\lib\\site-packages (from jedi>=0.16->ipython>=7.23.1->ipykernel) (0.8.3)\n",
      "Requirement already satisfied: pywin32>=1.0 in c:\\python\\lib\\site-packages (from jupyter-core>=4.6.0->jupyter-client<8.0->ipykernel) (303)\n",
      "Requirement already satisfied: wcwidth in c:\\python\\lib\\site-packages (from prompt-toolkit!=3.0.0,!=3.0.1,<3.1.0,>=2.0.0->ipython>=7.23.1->ipykernel) (0.2.5)\n",
      "Requirement already satisfied: six>=1.5 in c:\\python\\lib\\site-packages (from python-dateutil>=2.1->jupyter-client<8.0->ipykernel) (1.15.0)\n",
      "Requirement already satisfied: click>=7.1.2 in c:\\python\\lib\\site-packages (from black->ipython>=7.23.1->ipykernel) (7.1.2)\n",
      "Requirement already satisfied: pathspec<1,>=0.9.0 in c:\\python\\lib\\site-packages (from black->ipython>=7.23.1->ipykernel) (0.9.0)\n",
      "Requirement already satisfied: mypy-extensions>=0.4.3 in c:\\python\\lib\\site-packages (from black->ipython>=7.23.1->ipykernel) (0.4.3)\n",
      "Requirement already satisfied: typing-extensions>=3.10.0.0 in c:\\python\\lib\\site-packages (from black->ipython>=7.23.1->ipykernel) (4.0.1)\n",
      "Requirement already satisfied: tomli<2.0.0,>=0.2.6 in c:\\python\\lib\\site-packages (from black->ipython>=7.23.1->ipykernel) (1.2.3)\n",
      "Requirement already satisfied: platformdirs>=2 in c:\\python\\lib\\site-packages (from black->ipython>=7.23.1->ipykernel) (2.4.1)\n",
      "Requirement already satisfied: asttokens in c:\\python\\lib\\site-packages (from stack-data->ipython>=7.23.1->ipykernel) (2.0.5)\n",
      "Requirement already satisfied: executing in c:\\python\\lib\\site-packages (from stack-data->ipython>=7.23.1->ipykernel) (0.8.2)\n",
      "Requirement already satisfied: pure-eval in c:\\python\\lib\\site-packages (from stack-data->ipython>=7.23.1->ipykernel) (0.2.1)\n",
      "Installed kernelspec myenv in C:\\Users\\Lenovo\\AppData\\Roaming\\jupyter\\kernels\\myenv\n"
     ]
    }
   ],
   "source": [
    "!pip install --user ipykernel\n",
    "!python -m ipykernel install --user --name=myenv"
   ]
  },
  {
   "cell_type": "code",
   "execution_count": 5,
   "id": "02e11852",
   "metadata": {},
   "outputs": [
    {
     "name": "stdout",
     "output_type": "stream",
     "text": [
      "Requirement already satisfied: pandas in c:\\python\\lib\\site-packages (1.4.0)\n",
      "Requirement already satisfied: numpy>=1.18.5 in c:\\python\\lib\\site-packages (from pandas) (1.21.5)\n",
      "Requirement already satisfied: pytz>=2020.1 in c:\\python\\lib\\site-packages (from pandas) (2021.3)\n",
      "Requirement already satisfied: python-dateutil>=2.8.1 in c:\\python\\lib\\site-packages (from pandas) (2.8.1)\n",
      "Requirement already satisfied: six>=1.5 in c:\\python\\lib\\site-packages (from python-dateutil>=2.8.1->pandas) (1.15.0)\n"
     ]
    }
   ],
   "source": [
    "!pip install pandas\n",
    "\n"
   ]
  },
  {
   "cell_type": "code",
   "execution_count": 6,
   "id": "cd62ee6f",
   "metadata": {},
   "outputs": [],
   "source": [
    "import pandas as pd"
   ]
  },
  {
   "cell_type": "code",
   "execution_count": 22,
   "id": "5f03de5d",
   "metadata": {},
   "outputs": [
    {
     "name": "stdout",
     "output_type": "stream",
     "text": [
      "        Rank                                              Name Platform  \\\n",
      "0          1                                        Wii Sports      Wii   \n",
      "1          2                                 Super Mario Bros.      NES   \n",
      "2          3                                    Mario Kart Wii      Wii   \n",
      "3          4                                 Wii Sports Resort      Wii   \n",
      "4          5                          Pokemon Red/Pokemon Blue       GB   \n",
      "...      ...                                               ...      ...   \n",
      "16593  16596                Woody Woodpecker in Crazy Castle 5      GBA   \n",
      "16594  16597                     Men in Black II: Alien Escape       GC   \n",
      "16595  16598  SCORE International Baja 1000: The Official Game      PS2   \n",
      "16596  16599                                        Know How 2       DS   \n",
      "16597  16600                                  Spirits & Spells      GBA   \n",
      "\n",
      "         Year         Genre   Publisher  NA_Sales  EU_Sales  JP_Sales  \\\n",
      "0      2006.0        Sports    Nintendo     41.49     29.02      3.77   \n",
      "1      1985.0      Platform    Nintendo     29.08      3.58      6.81   \n",
      "2      2008.0        Racing    Nintendo     15.85     12.88      3.79   \n",
      "3      2009.0        Sports    Nintendo     15.75     11.01      3.28   \n",
      "4      1996.0  Role-Playing    Nintendo     11.27      8.89     10.22   \n",
      "...       ...           ...         ...       ...       ...       ...   \n",
      "16593  2002.0      Platform       Kemco      0.01      0.00      0.00   \n",
      "16594  2003.0       Shooter  Infogrames      0.01      0.00      0.00   \n",
      "16595  2008.0        Racing  Activision      0.00      0.00      0.00   \n",
      "16596  2010.0        Puzzle    7G//AMES      0.00      0.01      0.00   \n",
      "16597  2003.0      Platform     Wanadoo      0.01      0.00      0.00   \n",
      "\n",
      "       Other_Sales  Global_Sales  \n",
      "0             8.46         82.74  \n",
      "1             0.77         40.24  \n",
      "2             3.31         35.82  \n",
      "3             2.96         33.00  \n",
      "4             1.00         31.37  \n",
      "...            ...           ...  \n",
      "16593         0.00          0.01  \n",
      "16594         0.00          0.01  \n",
      "16595         0.00          0.01  \n",
      "16596         0.00          0.01  \n",
      "16597         0.00          0.01  \n",
      "\n",
      "[16598 rows x 11 columns]\n"
     ]
    }
   ],
   "source": [
    "df = pd.read_csv(\"vgsales.csv\")\n",
    "print(df.loc[0:])"
   ]
  },
  {
   "cell_type": "code",
   "execution_count": 26,
   "id": "c8bf5873",
   "metadata": {},
   "outputs": [
    {
     "name": "stdout",
     "output_type": "stream",
     "text": [
      "Eu sales: 0        29.02\n",
      "1         3.58\n",
      "2        12.88\n",
      "3        11.01\n",
      "4         8.89\n",
      "         ...  \n",
      "16593     0.00\n",
      "16594     0.00\n",
      "16595     0.00\n",
      "16596     0.01\n",
      "16597     0.00\n",
      "Name: EU_Sales, Length: 16598, dtype: float64\n"
     ]
    }
   ],
   "source": [
    "eu_sales = df.get(\"EU_Sales\")\n",
    "print(\"Eu sales:\",eu_sales)\n"
   ]
  },
  {
   "cell_type": "code",
   "execution_count": 28,
   "id": "983a2c7e",
   "metadata": {},
   "outputs": [
    {
     "name": "stdout",
     "output_type": "stream",
     "text": [
      "Variance of the eu_salea: 0.2553798669631976\n"
     ]
    }
   ],
   "source": [
    "#Variance\n",
    "print(\"Variance of the EU sales: \"+str(eu_sales.var()))"
   ]
  },
  {
   "cell_type": "code",
   "execution_count": 29,
   "id": "e9582af4",
   "metadata": {},
   "outputs": [
    {
     "name": "stdout",
     "output_type": "stream",
     "text": [
      "Mean of the EU sales: 0.14665200626581515\n"
     ]
    }
   ],
   "source": [
    "print(\"Mean of the EU sales: \"+str(eu_sales.mean()))"
   ]
  },
  {
   "cell_type": "code",
   "execution_count": 31,
   "id": "b5673dc0",
   "metadata": {},
   "outputs": [
    {
     "name": "stdout",
     "output_type": "stream",
     "text": [
      "Mode of the EU sales: 0\n"
     ]
    }
   ],
   "source": [
    "print(\"Mode of the EU sales: \"+str(int(eu_sales.mode())))\n",
    "\n"
   ]
  },
  {
   "cell_type": "code",
   "execution_count": 33,
   "id": "18338cb2",
   "metadata": {},
   "outputs": [
    {
     "name": "stdout",
     "output_type": "stream",
     "text": [
      "Standart Deviation of the Eu sales: 0.5053512312869116\n"
     ]
    }
   ],
   "source": [
    "print(\"Standart Deviation of the Eu sales: \"+str(eu_sales.std()))"
   ]
  },
  {
   "cell_type": "code",
   "execution_count": 37,
   "id": "e8b0c826",
   "metadata": {},
   "outputs": [
    {
     "name": "stdout",
     "output_type": "stream",
     "text": [
      "Standart Deviation of the Eu sales: 0.02\n"
     ]
    }
   ],
   "source": [
    "print(\"Standart Deviation of the Eu sales: \"+str(eu_sales.median()))"
   ]
  },
  {
   "cell_type": "code",
   "execution_count": 35,
   "id": "98bb8cea",
   "metadata": {},
   "outputs": [
    {
     "name": "stdout",
     "output_type": "stream",
     "text": [
      "**********\n",
      "\n"
     ]
    }
   ],
   "source": [
    "print(\"**********\\n\")"
   ]
  },
  {
   "cell_type": "code",
   "execution_count": 38,
   "id": "3205a784",
   "metadata": {},
   "outputs": [
    {
     "name": "stdout",
     "output_type": "stream",
     "text": [
      "Scatter plot of the Eu sales: \n",
      "\n"
     ]
    },
    {
     "data": {
      "text/plain": [
       "<AxesSubplot:xlabel='Rank', ylabel='EU_Sales'>"
      ]
     },
     "execution_count": 38,
     "metadata": {},
     "output_type": "execute_result"
    },
    {
     "data": {
      "image/png": "[encoded data removed]",
      "text/plain": [
       "<Figure size 432x288 with 1 Axes>"
      ]
     },
     "metadata": {
      "needs_background": "light"
     },
     "output_type": "display_data"
    }
   ],
   "source": [
    "print(\"Scatter plot of the Eu sales: \\n\")\n",
    "df.plot.scatter(y='EU_Sales',x=\"Rank\",c=\"Green\")"
   ]
  },
  {
   "cell_type": "code",
   "execution_count": 21,
   "id": "59d8218b",
   "metadata": {},
   "outputs": [
    {
     "data": {
      "text/plain": [
       "array([[<AxesSubplot:title={'center':'EU_Sales'}>]], dtype=object)"
      ]
     },
     "execution_count": 21,
     "metadata": {},
     "output_type": "execute_result"
    },
    {
     "data": {
      "image/png": "[encoded data removed]",
      "text/plain": [
       "<Figure size 432x288 with 1 Axes>"
      ]
     },
     "metadata": {
      "needs_background": "light"
     },
     "output_type": "display_data"
    }
   ],
   "source": [
    "print(\"Histogramm of the Eu sales: \\n\")\n",
    "df.hist(column=\"EU_Sales\")"
   ]
  },
  {
   "cell_type": "code",
   "execution_count": 39,
   "id": "b1c1b330",
   "metadata": {},
   "outputs": [
    {
     "name": "stdout",
     "output_type": "stream",
     "text": [
      "Box Plot of the Eu sales: \n",
      "\n"
     ]
    },
    {
     "data": {
      "text/plain": [
       "<AxesSubplot:>"
      ]
     },
     "execution_count": 39,
     "metadata": {},
     "output_type": "execute_result"
    },
    {
     "data": {
      "image/png": "[encoded data removed]",
      "text/plain": [
       "<Figure size 432x288 with 1 Axes>"
      ]
     },
     "metadata": {
      "needs_background": "light"
     },
     "output_type": "display_data"
    }
   ],
   "source": [
    "print(\"Box Plot of the Eu sales: \\n\")\n",
    "df.boxplot(column=\"EU_Sales\")"
   ]
  },
  {
   "cell_type": "code",
   "execution_count": null,
   "id": "e933fd62",
   "metadata": {},
   "outputs": [],
   "source": []
  }
 ],
 "metadata": {
  "kernelspec": {
   "display_name": "Python 3 (ipykernel)",
   "language": "python",
   "name": "python3"
  },
  "language_info": {
   "codemirror_mode": {
    "name": "ipython",
    "version": 3
   },
   "file_extension": ".py",
   "mimetype": "text/x-python",
   "name": "python",
   "nbconvert_exporter": "python",
   "pygments_lexer": "ipython3",
   "version": "3.9.4"
  }
 },
 "nbformat": 4,
 "nbformat_minor": 5
}
