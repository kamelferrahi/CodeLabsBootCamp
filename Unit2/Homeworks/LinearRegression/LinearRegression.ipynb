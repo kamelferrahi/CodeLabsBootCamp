{
 "cells": [
  {
   "cell_type": "code",
   "execution_count": 1,
   "id": "c681a516",
   "metadata": {},
   "outputs": [],
   "source": [
    "\n",
    "# To-Do: create a virtual environement called myenv\n",
    "!python -m venv myenv2"
   ]
  },
  {
   "cell_type": "code",
   "execution_count": 2,
   "id": "990c0a06",
   "metadata": {},
   "outputs": [],
   "source": [
    "# Activate the environement \n",
    "! myenv2\\Scripts\\activate.bat"
   ]
  },
  {
   "cell_type": "code",
   "execution_count": 3,
   "id": "9a4b425a",
   "metadata": {},
   "outputs": [
    {
     "name": "stdout",
     "output_type": "stream",
     "text": [
      "Installed kernelspec myenv2 in C:\\Users\\Lenovo\\AppData\\Roaming\\jupyter\\kernels\\myenv2\n"
     ]
    }
   ],
   "source": [
    "!python -m ipykernel install --user --name=myenv2\n"
   ]
  },
  {
   "cell_type": "code",
   "execution_count": 4,
   "id": "b5f29ec5",
   "metadata": {},
   "outputs": [],
   "source": [
    "from sklearn.linear_model import LinearRegression\n",
    "\n",
    "from sklearn.metrics import r2_score\n",
    "import pandas as pd"
   ]
  },
  {
   "cell_type": "code",
   "execution_count": 5,
   "id": "ef08f6de",
   "metadata": {},
   "outputs": [],
   "source": [
    "df = pd.read_csv(\"fish.csv\")\n"
   ]
  },
  {
   "cell_type": "code",
   "execution_count": 6,
   "id": "197104cd",
   "metadata": {},
   "outputs": [],
   "source": [
    "numerics = ['int16', 'int32', 'int64', 'float16', 'float32', 'float64']\n",
    "#newdf contains only the numerical column of df\n",
    "newdf = list(df.select_dtypes(include=numerics).keys())\n"
   ]
  },
  {
   "cell_type": "code",
   "execution_count": 7,
   "id": "afdb4ccf",
   "metadata": {},
   "outputs": [
    {
     "name": "stdout",
     "output_type": "stream",
     "text": [
      "['Length1', 'Length2', 'Length3', 'Height', 'Width']\n"
     ]
    }
   ],
   "source": [
    "y = ['Weight']\n",
    "\n",
    "\n",
    "newdf.remove(\"Weight\")\n",
    "print(newdf)"
   ]
  },
  {
   "cell_type": "code",
   "execution_count": 8,
   "id": "b494543b",
   "metadata": {},
   "outputs": [
    {
     "name": "stdout",
     "output_type": "stream",
     "text": [
      "     Length1  Length2  Length3   Height   Width\n",
      "0       23.2     25.4     30.0  11.5200  4.0200\n",
      "1       24.0     26.3     31.2  12.4800  4.3056\n",
      "2       23.9     26.5     31.1  12.3778  4.6961\n",
      "3       26.3     29.0     33.5  12.7300  4.4555\n",
      "4       26.5     29.0     34.0  12.4440  5.1340\n",
      "..       ...      ...      ...      ...     ...\n",
      "154     11.5     12.2     13.4   2.0904  1.3936\n",
      "155     11.7     12.4     13.5   2.4300  1.2690\n",
      "156     12.1     13.0     13.8   2.2770  1.2558\n",
      "157     13.2     14.3     15.2   2.8728  2.0672\n",
      "158     13.8     15.0     16.2   2.9322  1.8792\n",
      "\n",
      "[159 rows x 5 columns]\n"
     ]
    }
   ],
   "source": [
    "Y = df[y]\n",
    "X = df[newdf]\n",
    "print(X)"
   ]
  },
  {
   "cell_type": "code",
   "execution_count": 9,
   "id": "c00b5b35",
   "metadata": {},
   "outputs": [
    {
     "data": {
      "text/plain": [
       "LinearRegression()"
      ]
     },
     "execution_count": 9,
     "metadata": {},
     "output_type": "execute_result"
    }
   ],
   "source": [
    "regr = LinearRegression()\n",
    "regr.fit(X, Y)"
   ]
  },
  {
   "cell_type": "code",
   "execution_count": 10,
   "id": "618d41bd",
   "metadata": {},
   "outputs": [
    {
     "name": "stdout",
     "output_type": "stream",
     "text": [
      "Weight = 62.35521443246462Length1+-6.526752492044366Length2+-29.02621861269352Length3+28.29735132227667Height+22.473306652237294Width\n"
     ]
    }
   ],
   "source": [
    "st = \"Weight = \"\n",
    "for i in range(len(newdf)):\n",
    "    st += str(regr.coef_[0][i])+newdf[i]+\"+\"\n",
    " \n",
    "st = st[:-1]  \n",
    "print(st)"
   ]
  },
  {
   "cell_type": "code",
   "execution_count": 13,
   "id": "6918b121",
   "metadata": {},
   "outputs": [
    {
     "name": "stdout",
     "output_type": "stream",
     "text": [
      "R^2 Score: 0.8852867046546207\n"
     ]
    }
   ],
   "source": [
    "\n",
    "print(\"R^2 Score: \"+str(regr.score(X,Y)))\n"
   ]
  },
  {
   "cell_type": "code",
   "execution_count": null,
   "id": "665f42d3",
   "metadata": {},
   "outputs": [],
   "source": []
  }
 ],
 "metadata": {
  "kernelspec": {
   "display_name": "Python 3 (ipykernel)",
   "language": "python",
   "name": "python3"
  },
  "language_info": {
   "codemirror_mode": {
    "name": "ipython",
    "version": 3
   },
   "file_extension": ".py",
   "mimetype": "text/x-python",
   "name": "python",
   "nbconvert_exporter": "python",
   "pygments_lexer": "ipython3",
   "version": "3.9.4"
  }
 },
 "nbformat": 4,
 "nbformat_minor": 5
}
